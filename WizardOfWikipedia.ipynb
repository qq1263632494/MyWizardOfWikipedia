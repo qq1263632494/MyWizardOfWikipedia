{
  "nbformat": 4,
  "nbformat_minor": 0,
  "metadata": {
    "colab": {
      "name": "下载数据",
      "provenance": []
    },
    "kernelspec": {
      "name": "python3",
      "display_name": "Python 3"
    },
    "accelerator": "GPU"
  },
  "cells": [
    {
      "cell_type": "code",
      "metadata": {
        "id": "rBun_NNi1B5C",
        "colab_type": "code",
        "outputId": "cf8ef08d-3b98-4381-c30f-ab81faea4f81",
        "colab": {
          "base_uri": "https://localhost:8080/",
          "height": 34
        }
      },
      "source": [
        "!git clone https://github.com/qq1263632494/MyWizardOfWikipedia.git\n",
        "!cp -r MyWizardOfWikipedia/parlai .\n",
        "!cp MyWizardOfWikipedia/AgentModel.py .\n",
        "!cp MyWizardOfWikipedia/CommonUtils.py .\n",
        "!cp MyWizardOfWikipedia/DataUtils.py .\n",
        "!cp MyWizardOfWikipedia/FeatureUtils.py .\n",
        "!cp MyWizardOfWikipedia/FileUtils.py .\n",
        "!cp MyWizardOfWikipedia/TrainUtils.py .\n",
        "!cp MyWizardOfWikipedia/ModelUtils.py ."
      ],
      "execution_count": 2,
      "outputs": [
        {
          "output_type": "stream",
          "text": [
            "fatal: destination path 'MyWizardOfWikipedia' already exists and is not an empty directory.\n"
          ],
          "name": "stdout"
        }
      ]
    },
    {
      "cell_type": "code",
      "metadata": {
        "id": "3ih-v1Jc8sVh",
        "colab_type": "code",
        "outputId": "3f95f79b-bad3-49b2-df56-17f45ce256ba",
        "colab": {
          "base_uri": "https://localhost:8080/",
          "height": 649
        }
      },
      "source": [
        "!pip install subword_nmt transformers"
      ],
      "execution_count": 3,
      "outputs": [
        {
          "output_type": "stream",
          "text": [
            "Collecting subword_nmt\n",
            "  Downloading https://files.pythonhosted.org/packages/74/60/6600a7bc09e7ab38bc53a48a20d8cae49b837f93f5842a41fe513a694912/subword_nmt-0.3.7-py2.py3-none-any.whl\n",
            "Collecting transformers\n",
            "\u001b[?25l  Downloading https://files.pythonhosted.org/packages/48/35/ad2c5b1b8f99feaaf9d7cdadaeef261f098c6e1a6a2935d4d07662a6b780/transformers-2.11.0-py3-none-any.whl (674kB)\n",
            "\u001b[K     |████████████████████████████████| 675kB 3.9MB/s \n",
            "\u001b[?25hCollecting sacremoses\n",
            "\u001b[?25l  Downloading https://files.pythonhosted.org/packages/7d/34/09d19aff26edcc8eb2a01bed8e98f13a1537005d31e95233fd48216eed10/sacremoses-0.0.43.tar.gz (883kB)\n",
            "\u001b[K     |████████████████████████████████| 890kB 14.8MB/s \n",
            "\u001b[?25hRequirement already satisfied: packaging in /usr/local/lib/python3.6/dist-packages (from transformers) (20.4)\n",
            "Requirement already satisfied: regex!=2019.12.17 in /usr/local/lib/python3.6/dist-packages (from transformers) (2019.12.20)\n",
            "Collecting sentencepiece\n",
            "\u001b[?25l  Downloading https://files.pythonhosted.org/packages/d4/a4/d0a884c4300004a78cca907a6ff9a5e9fe4f090f5d95ab341c53d28cbc58/sentencepiece-0.1.91-cp36-cp36m-manylinux1_x86_64.whl (1.1MB)\n",
            "\u001b[K     |████████████████████████████████| 1.1MB 15.9MB/s \n",
            "\u001b[?25hRequirement already satisfied: requests in /usr/local/lib/python3.6/dist-packages (from transformers) (2.23.0)\n",
            "Requirement already satisfied: numpy in /usr/local/lib/python3.6/dist-packages (from transformers) (1.18.4)\n",
            "Requirement already satisfied: tqdm>=4.27 in /usr/local/lib/python3.6/dist-packages (from transformers) (4.41.1)\n",
            "Collecting tokenizers==0.7.0\n",
            "\u001b[?25l  Downloading https://files.pythonhosted.org/packages/14/e5/a26eb4716523808bb0a799fcfdceb6ebf77a18169d9591b2f46a9adb87d9/tokenizers-0.7.0-cp36-cp36m-manylinux1_x86_64.whl (3.8MB)\n",
            "\u001b[K     |████████████████████████████████| 3.8MB 23.7MB/s \n",
            "\u001b[?25hRequirement already satisfied: dataclasses; python_version < \"3.7\" in /usr/local/lib/python3.6/dist-packages (from transformers) (0.7)\n",
            "Requirement already satisfied: filelock in /usr/local/lib/python3.6/dist-packages (from transformers) (3.0.12)\n",
            "Requirement already satisfied: six in /usr/local/lib/python3.6/dist-packages (from sacremoses->transformers) (1.12.0)\n",
            "Requirement already satisfied: click in /usr/local/lib/python3.6/dist-packages (from sacremoses->transformers) (7.1.2)\n",
            "Requirement already satisfied: joblib in /usr/local/lib/python3.6/dist-packages (from sacremoses->transformers) (0.15.1)\n",
            "Requirement already satisfied: pyparsing>=2.0.2 in /usr/local/lib/python3.6/dist-packages (from packaging->transformers) (2.4.7)\n",
            "Requirement already satisfied: urllib3!=1.25.0,!=1.25.1,<1.26,>=1.21.1 in /usr/local/lib/python3.6/dist-packages (from requests->transformers) (1.24.3)\n",
            "Requirement already satisfied: idna<3,>=2.5 in /usr/local/lib/python3.6/dist-packages (from requests->transformers) (2.9)\n",
            "Requirement already satisfied: chardet<4,>=3.0.2 in /usr/local/lib/python3.6/dist-packages (from requests->transformers) (3.0.4)\n",
            "Requirement already satisfied: certifi>=2017.4.17 in /usr/local/lib/python3.6/dist-packages (from requests->transformers) (2020.4.5.1)\n",
            "Building wheels for collected packages: sacremoses\n",
            "  Building wheel for sacremoses (setup.py) ... \u001b[?25l\u001b[?25hdone\n",
            "  Created wheel for sacremoses: filename=sacremoses-0.0.43-cp36-none-any.whl size=893260 sha256=177a8eeac921b798a00c75879a0dc6023e35f4111bdad1093f306dba6c945b03\n",
            "  Stored in directory: /root/.cache/pip/wheels/29/3c/fd/7ce5c3f0666dab31a50123635e6fb5e19ceb42ce38d4e58f45\n",
            "Successfully built sacremoses\n",
            "Installing collected packages: subword-nmt, sacremoses, sentencepiece, tokenizers, transformers\n",
            "Successfully installed sacremoses-0.0.43 sentencepiece-0.1.91 subword-nmt-0.3.7 tokenizers-0.7.0 transformers-2.11.0\n"
          ],
          "name": "stdout"
        }
      ]
    },
    {
      "cell_type": "code",
      "metadata": {
        "id": "DdP2M6hJ7pCo",
        "colab_type": "code",
        "colab": {}
      },
      "source": [
        "from AgentModel import ModelOption, TransformerMemNetAgent, TransformerMemNet\n",
        "from parlai.core.dict import DictionaryAgent\n",
        "from parlai.core.opt import Opt\n",
        "from DataUtils import compile_all_dialogs, compile_one_dialog, display_example\n",
        "from FeatureUtils import Tokenizer\n",
        "import pickle\n",
        "import torch\n",
        "from FileUtils import read_json\n",
        "from torch.utils.data import DataLoader\n",
        "from TrainUtils import ARG, final_train_function, WizardOfWikipediaDataset, no_schedule_train\n",
        "from CommonUtils import tqdm"
      ],
      "execution_count": 0,
      "outputs": []
    },
    {
      "cell_type": "code",
      "metadata": {
        "id": "PCKr2xwX8eXO",
        "colab_type": "code",
        "colab": {}
      },
      "source": [
        "with open('/content/drive/My Drive/WizardOfWikipedia/dictionary.pickle', 'rb') as fi:\n",
        "    dictionary = pickle.load(fi)"
      ],
      "execution_count": 0,
      "outputs": []
    },
    {
      "cell_type": "code",
      "metadata": {
        "id": "c_YXo1z98yzD",
        "colab_type": "code",
        "colab": {}
      },
      "source": [
        "embedding = torch.load('/content/drive/My Drive/WizardOfWikipedia/fasttext-subword-300-embedding.pytorch')"
      ],
      "execution_count": 0,
      "outputs": []
    },
    {
      "cell_type": "code",
      "metadata": {
        "id": "kvuaK3XP84ey",
        "colab_type": "code",
        "colab": {}
      },
      "source": [
        "tokenizer = Tokenizer(dictionary=dictionary, pad_to_max=True, max_length=64)"
      ],
      "execution_count": 0,
      "outputs": []
    },
    {
      "cell_type": "code",
      "metadata": {
        "id": "4FpNFggZ88AO",
        "colab_type": "code",
        "outputId": "8e78792b-b324-438c-f5cc-21c7564acc17",
        "colab": {
          "base_uri": "https://localhost:8080/",
          "height": 34
        }
      },
      "source": [
        "DATA_PATH = '/content/drive/My Drive/wizard_of_wikipedia/train.json'\n",
        "DATA = read_json(DATA_PATH)\n",
        "examples = compile_all_dialogs(DATA)\n",
        "len(examples)"
      ],
      "execution_count": 5,
      "outputs": [
        {
          "output_type": "execute_result",
          "data": {
            "text/plain": [
              "83247"
            ]
          },
          "metadata": {
            "tags": []
          },
          "execution_count": 5
        }
      ]
    },
    {
      "cell_type": "code",
      "metadata": {
        "id": "kh8I0skV9DvI",
        "colab_type": "code",
        "outputId": "06db5404-be9d-4752-9118-892742d9a3a2",
        "colab": {
          "base_uri": "https://localhost:8080/",
          "height": 34
        }
      },
      "source": [
        "real_examples = []\n",
        "for example in examples:\n",
        "    if example.choosen_index >= 0 and len(example.knowledge_pool) >= 32:\n",
        "        real_examples.append(example)\n",
        "len(real_examples)"
      ],
      "execution_count": 6,
      "outputs": [
        {
          "output_type": "execute_result",
          "data": {
            "text/plain": [
              "71620"
            ]
          },
          "metadata": {
            "tags": []
          },
          "execution_count": 6
        }
      ]
    },
    {
      "cell_type": "code",
      "metadata": {
        "id": "qU7VTZta9K11",
        "colab_type": "code",
        "outputId": "4a35af0e-0df5-4a75-a0ce-6f75f99cef52",
        "colab": {
          "base_uri": "https://localhost:8080/",
          "height": 34
        }
      },
      "source": [
        "all_data = []\n",
        "for example in tqdm(real_examples[6400:51200]):\n",
        "    all_data.append(tokenizer.tokenize_example_as_train_data(example))"
      ],
      "execution_count": 17,
      "outputs": [
        {
          "output_type": "stream",
          "text": [
            " :44704/44800 还需0.00小时；速度：448.35 iter/s"
          ],
          "name": "stdout"
        }
      ]
    },
    {
      "cell_type": "code",
      "metadata": {
        "id": "2Bh1NXqx9PRi",
        "colab_type": "code",
        "colab": {}
      },
      "source": [
        "dataset = WizardOfWikipediaDataset(all_data)"
      ],
      "execution_count": 0,
      "outputs": []
    },
    {
      "cell_type": "code",
      "metadata": {
        "id": "o_k4vgD_9wIL",
        "colab_type": "code",
        "colab": {}
      },
      "source": [
        "agent = TransformerMemNetAgent(opt=ModelOption(), \n",
        "                               tokenizer=tokenizer, \n",
        "                               embedding=embedding)"
      ],
      "execution_count": 0,
      "outputs": []
    },
    {
      "cell_type": "code",
      "metadata": {
        "id": "BkNN-Umm9xEx",
        "colab_type": "code",
        "colab": {}
      },
      "source": [
        "arg = ARG(num_train_epochs=10, \n",
        "          learning_rate=5e-4, \n",
        "          device=\"cuda:0\", \n",
        "          train_batch_size=32, \n",
        "          print_every=200, \n",
        "          warmup_proportion=0.4, \n",
        "          save_dir='/content/drive/My Drive/WOWTMP', \n",
        "          warmup_method='linear')"
      ],
      "execution_count": 0,
      "outputs": []
    },
    {
      "cell_type": "code",
      "metadata": {
        "id": "1uop_NyJdr7j",
        "colab_type": "code",
        "colab": {
          "base_uri": "https://localhost:8080/",
          "height": 34
        },
        "outputId": "d09c2a29-d5f8-45f1-bfed-6c922faf5912"
      },
      "source": [
        "arg.num_train_epochs"
      ],
      "execution_count": 24,
      "outputs": [
        {
          "output_type": "execute_result",
          "data": {
            "text/plain": [
              "10"
            ]
          },
          "metadata": {
            "tags": []
          },
          "execution_count": 24
        }
      ]
    },
    {
      "cell_type": "code",
      "metadata": {
        "id": "v0So0xxN9zko",
        "colab_type": "code",
        "outputId": "a3e2d9d0-f97b-43d3-c8a0-53fca6b8c9f4",
        "colab": {
          "base_uri": "https://localhost:8080/",
          "height": 1000
        }
      },
      "source": [
        "#no_schedule_train(args=arg, train_dataset=dataset, agent=agent)\n",
        "final_train_function(args=arg, train_dataset=dataset, agent=agent)"
      ],
      "execution_count": 25,
      "outputs": [
        {
          "output_type": "stream",
          "text": [
            "Epoch :1/10 还需0.00秒\n",
            "Iteration :199/1400 还需0.15小时；速度：2.20 iter/s8.956305503845215\n",
            "Iteration :399/1400 还需0.13小时；速度：2.17 iter/s7.278573989868164\n",
            "Iteration :599/1400 还需0.10小时；速度：2.20 iter/s6.381223678588867\n",
            "Iteration :799/1400 还需0.08小时；速度：2.21 iter/s6.333219051361084\n",
            "Iteration :999/1400 还需0.05小时；速度：2.20 iter/s6.3889946937561035\n",
            "Iteration :1199/1400 还需0.03小时；速度：2.16 iter/s6.344010353088379\n",
            "Iteration :1399/1400 还需0.00小时；速度：2.20 iter/s6.068996906280518\n",
            "Iteration :1400/1400 还需0.00小时；速度：2.20 iter/s\n",
            "7.109086114338466\n",
            "当前模型保存在：/content/drive/My Drive/WOWTMP/EP1.pth\n",
            "Epoch :2/10 还需5755.96秒\n",
            "Iteration :199/1400 还需0.15小时；速度：2.18 iter/s6.212854385375977\n",
            "Iteration :399/1400 还需0.13小时；速度：2.18 iter/s5.786304473876953\n",
            "Iteration :599/1400 还需0.10小时；速度：2.19 iter/s6.163844585418701\n",
            "Iteration :799/1400 还需0.08小时；速度：2.21 iter/s5.980534076690674\n",
            "Iteration :999/1400 还需0.05小时；速度：2.20 iter/s5.8456525802612305\n",
            "Iteration :1199/1400 还需0.03小时；速度：2.20 iter/s5.766524791717529\n",
            "Iteration :1399/1400 还需0.00小时；速度：2.20 iter/s5.983536243438721\n",
            "Iteration :1400/1400 还需0.00小时；速度：2.18 iter/s\n",
            "6.041227072988238\n",
            "当前模型保存在：/content/drive/My Drive/WOWTMP/EP2.pth\n",
            "Epoch :3/10 还需5112.32秒\n",
            "Iteration :199/1400 还需0.15小时；速度：2.18 iter/s5.707393646240234\n",
            "Iteration :399/1400 还需0.13小时；速度：2.19 iter/s5.944009780883789\n",
            "Iteration :599/1400 还需0.10小时；速度：2.21 iter/s5.778584957122803\n",
            "Iteration :799/1400 还需0.08小时；速度：2.20 iter/s5.690796852111816\n",
            "Iteration :999/1400 还需0.05小时；速度：2.19 iter/s5.932629108428955\n",
            "Iteration :1199/1400 还需0.03小时；速度：2.19 iter/s5.709906101226807\n",
            "Iteration :1399/1400 还需0.00小时；速度：2.19 iter/s5.8567891120910645\n",
            "Iteration :1400/1400 还需0.00小时；速度：2.17 iter/s\n",
            "5.817012687070029\n",
            "当前模型保存在：/content/drive/My Drive/WOWTMP/EP3.pth\n",
            "Epoch :4/10 还需4477.84秒\n",
            "Iteration :199/1400 还需0.15小时；速度：2.18 iter/s5.746109485626221\n",
            "Iteration :399/1400 还需0.13小时；速度：2.17 iter/s6.0002593994140625\n",
            "Iteration :599/1400 还需0.10小时；速度：2.19 iter/s5.808856010437012\n",
            "Iteration :799/1400 还需0.08小时；速度：2.18 iter/s5.436221122741699\n",
            "Iteration :999/1400 还需0.05小时；速度：2.17 iter/s5.598989963531494\n",
            "Iteration :1199/1400 还需0.03小时；速度：2.18 iter/s5.577583312988281\n",
            "Iteration :1399/1400 还需0.00小时；速度：2.19 iter/s5.5418901443481445\n",
            "Iteration :1400/1400 还需0.00小时；速度：2.18 iter/s\n",
            "5.6503618345941815\n",
            "当前模型保存在：/content/drive/My Drive/WOWTMP/EP4.pth\n",
            "Epoch :5/10 还需3847.48秒\n",
            "Iteration :199/1400 还需0.15小时；速度：2.17 iter/s5.661892890930176\n",
            "Iteration :399/1400 还需0.13小时；速度：2.19 iter/s5.566664695739746\n",
            "Iteration :599/1400 还需0.10小时；速度：2.19 iter/s5.49468469619751\n",
            "Iteration :799/1400 还需0.08小时；速度：2.18 iter/s5.223517894744873\n",
            "Iteration :999/1400 还需0.05小时；速度：2.19 iter/s5.357701301574707\n",
            "Iteration :1199/1400 还需0.03小时；速度：2.18 iter/s5.288461208343506\n",
            "Iteration :1399/1400 还需0.00小时；速度：2.21 iter/s5.447298049926758\n",
            "Iteration :1400/1400 还需0.00小时；速度：2.20 iter/s\n",
            "5.339961161272867\n",
            "当前模型保存在：/content/drive/My Drive/WOWTMP/EP5.pth\n",
            "Epoch :6/10 还需3203.78秒\n",
            "Iteration :199/1400 还需0.15小时；速度：2.18 iter/s4.991695404052734\n",
            "Iteration :399/1400 还需0.13小时；速度：2.19 iter/s4.990885257720947\n",
            "Iteration :599/1400 还需0.10小时；速度：2.20 iter/s5.072420120239258\n",
            "Iteration :799/1400 还需0.08小时；速度：2.20 iter/s5.0316290855407715\n",
            "Iteration :999/1400 还需0.05小时；速度：2.17 iter/s5.212869644165039\n",
            "Iteration :1199/1400 还需0.03小时；速度：2.19 iter/s4.697898864746094\n",
            "Iteration :1399/1400 还需0.00小时；速度：2.17 iter/s5.131085395812988\n",
            "Iteration :1400/1400 还需0.00小时；速度：2.20 iter/s\n",
            "5.00288953099932\n",
            "当前模型保存在：/content/drive/My Drive/WOWTMP/EP6.pth\n",
            "Epoch :7/10 还需2558.27秒\n",
            "Iteration :199/1400 还需0.15小时；速度：2.18 iter/s4.824055194854736\n",
            "Iteration :399/1400 还需0.13小时；速度：2.19 iter/s4.839747905731201\n",
            "Iteration :599/1400 还需0.10小时；速度：2.19 iter/s4.76242208480835\n",
            "Iteration :799/1400 还需0.08小时；速度：2.20 iter/s4.662487030029297\n",
            "Iteration :999/1400 还需0.05小时；速度：2.20 iter/s4.921658515930176\n",
            "Iteration :1199/1400 还需0.03小时；速度：2.19 iter/s4.657202243804932\n",
            "Iteration :1399/1400 还需0.00小时；速度：2.20 iter/s4.810768127441406\n",
            "Iteration :1400/1400 还需0.00小时；速度：2.20 iter/s\n",
            "4.783722042356219\n",
            "当前模型保存在：/content/drive/My Drive/WOWTMP/EP7.pth\n",
            "Epoch :8/10 还需1923.46秒\n",
            "Iteration :199/1400 还需0.15小时；速度：2.20 iter/s4.65815544128418\n",
            "Iteration :399/1400 还需0.13小时；速度：2.16 iter/s4.450896263122559\n",
            "Iteration :599/1400 还需0.10小时；速度：2.16 iter/s4.573798656463623\n",
            "Iteration :799/1400 还需0.08小时；速度：2.19 iter/s4.797869682312012\n",
            "Iteration :999/1400 还需0.05小时；速度：2.20 iter/s4.662370681762695\n",
            "Iteration :1199/1400 还需0.03小时；速度：2.20 iter/s4.67556619644165\n",
            "Iteration :1399/1400 还需0.00小时；速度：2.19 iter/s4.8093461990356445\n",
            "Iteration :1400/1400 还需0.00小时；速度：2.19 iter/s\n",
            "4.621226103987013\n",
            "当前模型保存在：/content/drive/My Drive/WOWTMP/EP8.pth\n",
            "Epoch :9/10 还需1279.15秒\n",
            "Iteration :199/1400 还需0.15小时；速度：2.19 iter/s4.626547336578369\n",
            "Iteration :399/1400 还需0.13小时；速度：2.20 iter/s4.650517463684082\n",
            "Iteration :599/1400 还需0.10小时；速度：2.19 iter/s4.2858734130859375\n",
            "Iteration :799/1400 还需0.08小时；速度：2.18 iter/s4.381762981414795\n",
            "Iteration :999/1400 还需0.05小时；速度：2.19 iter/s4.224869728088379\n",
            "Iteration :1199/1400 还需0.03小时；速度：2.19 iter/s4.5602569580078125\n",
            "Iteration :1399/1400 还需0.00小时；速度：2.19 iter/s4.5510663986206055\n",
            "Iteration :1400/1400 还需0.00小时；速度：2.19 iter/s\n",
            "4.496686204501561\n",
            "当前模型保存在：/content/drive/My Drive/WOWTMP/EP9.pth\n",
            "Epoch :10/10 还需642.15秒\n",
            "Iteration :199/1400 还需0.15小时；速度：2.19 iter/s4.531890392303467\n",
            "Iteration :399/1400 还需0.13小时；速度：2.20 iter/s4.3048014640808105\n",
            "Iteration :599/1400 还需0.10小时；速度：2.18 iter/s4.496901512145996\n",
            "Iteration :799/1400 还需0.08小时；速度：2.18 iter/s4.266262531280518\n",
            "Iteration :999/1400 还需0.05小时；速度：2.19 iter/s4.594810485839844\n",
            "Iteration :1199/1400 还需0.03小时；速度：2.19 iter/s4.5578999519348145\n",
            "Iteration :1399/1400 还需0.00小时；速度：2.18 iter/s4.166332721710205\n",
            "Iteration :1400/1400 还需0.00小时；速度：2.17 iter/s\n",
            "4.407694360869272\n",
            "当前模型保存在：/content/drive/My Drive/WOWTMP/EP10.pth\n"
          ],
          "name": "stdout"
        },
        {
          "output_type": "execute_result",
          "data": {
            "text/plain": [
              "(14001, 5.326606239423472)"
            ]
          },
          "metadata": {
            "tags": []
          },
          "execution_count": 25
        }
      ]
    },
    {
      "cell_type": "code",
      "metadata": {
        "id": "8g-NtIXPRpxO",
        "colab_type": "code",
        "outputId": "891aab5e-d9e1-4a4c-9dee-7a4b448a2df8",
        "colab": {
          "base_uri": "https://localhost:8080/",
          "height": 289
        }
      },
      "source": [
        "!nvidia-smi"
      ],
      "execution_count": 39,
      "outputs": [
        {
          "output_type": "stream",
          "text": [
            "Sun Jun  7 10:51:03 2020       \n",
            "+-----------------------------------------------------------------------------+\n",
            "| NVIDIA-SMI 440.82       Driver Version: 418.67       CUDA Version: 10.1     |\n",
            "|-------------------------------+----------------------+----------------------+\n",
            "| GPU  Name        Persistence-M| Bus-Id        Disp.A | Volatile Uncorr. ECC |\n",
            "| Fan  Temp  Perf  Pwr:Usage/Cap|         Memory-Usage | GPU-Util  Compute M. |\n",
            "|===============================+======================+======================|\n",
            "|   0  Tesla P100-PCIE...  Off  | 00000000:00:04.0 Off |                    0 |\n",
            "| N/A   60C    P0    42W / 250W |  16277MiB / 16280MiB |      0%      Default |\n",
            "+-------------------------------+----------------------+----------------------+\n",
            "                                                                               \n",
            "+-----------------------------------------------------------------------------+\n",
            "| Processes:                                                       GPU Memory |\n",
            "|  GPU       PID   Type   Process name                             Usage      |\n",
            "|=============================================================================|\n",
            "+-----------------------------------------------------------------------------+\n"
          ],
          "name": "stdout"
        }
      ]
    }
  ]
}